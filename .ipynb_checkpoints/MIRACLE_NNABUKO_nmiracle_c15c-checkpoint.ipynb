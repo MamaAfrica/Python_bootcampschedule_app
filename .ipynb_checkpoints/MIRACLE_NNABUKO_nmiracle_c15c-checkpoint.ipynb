{
 "cells": [
  {
   "cell_type": "code",
   "execution_count": 1,
   "id": "b22f4a55",
   "metadata": {},
   "outputs": [
    {
     "name": "stdout",
     "output_type": "stream",
     "text": [
      "2.6.0\n"
     ]
    }
   ],
   "source": [
    "#creating an sqlite database table\n",
    "import sqlite3\n",
    "from sqlite3 import Error\n",
    "\n",
    "\n",
    "def create_connection(db_file):\n",
    "    \"\"\" create a database connection to a SQLite database \"\"\"\n",
    "    conn = None\n",
    "    try:\n",
    "        conn = sqlite3.connect(db_file)\n",
    "        print(sqlite3.version)\n",
    "    except Error as e:\n",
    "        print(e)\n",
    "    finally:\n",
    "        if conn:\n",
    "            conn.close()\n",
    "\n",
    "if __name__ == '__main__':\n",
    "    create_connection(\"pythonsqlite.db\")\n"
   ]
  },
  {
   "cell_type": "code",
   "execution_count": 2,
   "id": "570b8cfe",
   "metadata": {
    "scrolled": true
   },
   "outputs": [],
   "source": [
    "#importing pandas and reading the BootcampSchedule sheet\n",
    "import pandas as pd\n",
    "BootcampSchedule = pd.read_excel('C:/Users/HP/Desktop/pythonacademy/BootcampSchedule.xlsx')"
   ]
  },
  {
   "cell_type": "code",
   "execution_count": 3,
   "id": "8aa495fd",
   "metadata": {},
   "outputs": [],
   "source": [
    "#Creating a database table named BootcampSchedule\n",
    "connection = sqlite3.connect('pythonsqlite.db')\n",
    "cursor = connection.cursor()\n",
    "cursor.execute('''CREATE TABLE IF NOT EXISTS BootcampSchedule (\n",
    "              Month TEXT, \n",
    "              Date TEXT, \n",
    "              BootcampTime TEXT,\n",
    "              Cohort TEXT,\n",
    "              Program TEXT,\n",
    "              Topic TEXT\n",
    "              );''')\n",
    "\n",
    "connection.commit()"
   ]
  },
  {
   "cell_type": "code",
   "execution_count": 4,
   "id": "a770231a",
   "metadata": {},
   "outputs": [
    {
     "data": {
      "text/plain": [
       "28"
      ]
     },
     "execution_count": 4,
     "metadata": {},
     "output_type": "execute_result"
    }
   ],
   "source": [
    "# Loading the BootcampSchedule table with data from the BootcampSchedule sheet\n",
    "BootcampSchedule.to_sql('BootcampSchedule', connection, if_exists='append', index=False)"
   ]
  },
  {
   "cell_type": "code",
   "execution_count": 5,
   "id": "545ee881",
   "metadata": {},
   "outputs": [],
   "source": [
    "# importing the ipywidgets for creating interacting interface\n",
    "!!pip install ipython\n",
    "from ipywidgets import *\n",
    "from IPython.display import display"
   ]
  },
  {
   "cell_type": "code",
   "execution_count": 6,
   "id": "77bc088b",
   "metadata": {},
   "outputs": [
    {
     "name": "stdout",
     "output_type": "stream",
     "text": [
      "13:14:49\n"
     ]
    }
   ],
   "source": [
    "import datetime\n",
    "from datetime import time\n",
    "\n",
    "\n",
    "# Function to get current userTime from computer time\n",
    "def currUserTime():\n",
    "    now = datetime.datetime.now()\n",
    "    current_time = now.strftime(\"%H:%M:%S\") # formating time to hours minutes and secs\n",
    "    return current_time\n",
    "print(currUserTime())"
   ]
  },
  {
   "cell_type": "code",
   "execution_count": 8,
   "id": "312c4575",
   "metadata": {},
   "outputs": [],
   "source": [
    "#reading country and timezone from timezones_Detailed_588_Countries.csv\n",
    "\n",
    "countryTime =pd.read_csv('timezones_Detailed_588_Countries.csv')\n",
    "countries = list(countryTime['timezone'])\n",
    "countryList =[]\n",
    "for items in countries:\n",
    "    if '/' in items:\n",
    "        country=items.split('/')\n",
    "        countryList.append(country[1])\n",
    "    else:\n",
    "        countryList.append(items)\n",
    "        \n",
    "countryTimeList = list(countryTime['offset'])\n",
    "#Converting offset to hours\n",
    "timezone=[]\n",
    "timezoneList =[]\n",
    "for item in countryTimeList:\n",
    "    offsetHours = (item/(60*60))\n",
    "    timezone.append(offsetHours)\n",
    "\n"
   ]
  },
  {
   "cell_type": "code",
   "execution_count": 9,
   "id": "1ce8ade9",
   "metadata": {},
   "outputs": [
    {
     "name": "stdout",
     "output_type": "stream",
     "text": [
      "Please enter your country or city name: Lagos\n"
     ]
    },
    {
     "data": {
      "text/plain": [
       "'The timezone of Lagos is UTC + 1.0'"
      ]
     },
     "execution_count": 9,
     "metadata": {},
     "output_type": "execute_result"
    }
   ],
   "source": [
    "\n",
    "countryAndTimeDict = dict(zip(countryList,timezone))\n",
    "                          \n",
    "def userTimezone(country):\n",
    "    timezone = countryAndTimeDict[country] \n",
    "    if timezone >0:\n",
    "        return f'The timezone of {country} is UTC + {timezone}'\n",
    "    else:\n",
    "        return f'The timezone of {country} is UTC {timezone}'\n",
    "\n",
    "\n",
    "country = input('Please enter your country or city name: ')\n",
    "userTimezone(country)"
   ]
  },
  {
   "cell_type": "code",
   "execution_count": 10,
   "id": "7a051a88",
   "metadata": {},
   "outputs": [
    {
     "name": "stdout",
     "output_type": "stream",
     "text": [
      "Please enter bootcamp time in format- xx.xx AM: 7.00 AM\n",
      "7.00\n",
      "Please enter bootcamp time in 24hr format- xx.xx: 20.00\n"
     ]
    },
    {
     "data": {
      "text/plain": [
       "'8.00 PM'"
      ]
     },
     "execution_count": 10,
     "metadata": {},
     "output_type": "execute_result"
    }
   ],
   "source": [
    "estOffset = -18000\n",
    " #A function to convert a 12-hour time and \"am\" or \"pm\" to a 24-hour value.    \n",
    "def to_24hour(bootCampTime):\n",
    "    estTime = bootCampTime.split(' ')\n",
    "    if '.' in estTime[0]:\n",
    "        est = estTime[0].split('.')\n",
    "        estTimeHour = int(est[0])\n",
    "    elif ':' in estTime[0]:\n",
    "        est = estTime[0].split(':')\n",
    "        estTimeHour = int(est[0])\n",
    "    if estTime[1] == 'AM':\n",
    "        return f'{00}.{est[1]}' if estTimeHour == 12 else f'{estTimeHour}.{est[1]}'\n",
    "    else:\n",
    "        return f'{12}.{est[1]}' if estTimeHour == 12 else f'{estTimeHour + 12}.{est[1]}'\n",
    "    \n",
    "bootCampTime = input('Please enter bootcamp time in format- xx.xx AM: ')\n",
    "print(to_24hour(bootCampTime))\n",
    "\n",
    "#A function to convert a 24-hour clock value to a 12-hour one.\n",
    "def to_12hour(hour):\n",
    "    hour = str(hour)\n",
    "    if '.' in hour:\n",
    "        est = hour.split('.')\n",
    "        estTimeHour = int(est[0])\n",
    "    elif ':' in hour:\n",
    "        est = hour.split(':')\n",
    "        estTimeHour = int(est[0])\n",
    "    if int(estTimeHour) == 0:\n",
    "        return (f'{12}.{est[1]} AM')\n",
    "    elif int(estTimeHour) < 12:\n",
    "        return (f'{estTimeHour}.{est[1]} AM')\n",
    "    elif int(estTimeHour) == 12:\n",
    "        return (f'{12}.{est[1]} PM')\n",
    "    elif (int(estTimeHour)>12) & (int(estTimeHour)<24):\n",
    "        return (f'{int(estTimeHour) - 12}.{est[1]} PM')\n",
    "    else:\n",
    "        return ('wrong format, enter a number between 0 and 24')\n",
    "\n",
    "hour = input('Please enter bootcamp time in 24hr format- xx.xx: ')\n",
    "to_12hour(hour)"
   ]
  },
  {
   "cell_type": "code",
   "execution_count": 11,
   "id": "98bed78d",
   "metadata": {
    "scrolled": true
   },
   "outputs": [
    {
     "name": "stdout",
     "output_type": "stream",
     "text": [
      "Please enter your country or city name: Lagos\n",
      "Please enter bootcamp time format xx.xx AM: 6.00 AM\n",
      "The Bootcamp time in Lagos is 12.0 PM\n"
     ]
    }
   ],
   "source": [
    "#function to convert bootcamptime from EST to user's time\n",
    "def timeConverter(userCountry, bootCampTime):\n",
    "    estHour = to_24hour(bootCampTime)\n",
    "    countryOffset = countryAndTimeDict[userCountry]\n",
    "    utcTime = to_12hour((float(estHour) - (estOffset/(60*60)) + 24)%24)\n",
    "    utcTime24h = to_24hour(utcTime)\n",
    "    userTime24h = ((float(utcTime24h) + countryOffset)+24)%24\n",
    "    userTime = to_12hour(userTime24h)\n",
    "    return userCountry,userTime\n",
    "\n",
    "    \n",
    "userCountry= input('Please enter your country or city name: ')\n",
    "bootCampTime = input('Please enter bootcamp time format xx.xx AM: ')\n",
    "\n",
    "country,time = timeConverter(userCountry,bootCampTime)\n",
    "print(f'The Bootcamp time in {country} is {time}')\n",
    "\n"
   ]
  },
  {
   "cell_type": "code",
   "execution_count": 12,
   "id": "55535547",
   "metadata": {},
   "outputs": [
    {
     "name": "stdout",
     "output_type": "stream",
     "text": [
      "Please enter your country or city name: Lagos\n"
     ]
    },
    {
     "data": {
      "application/vnd.jupyter.widget-view+json": {
       "model_id": "977a3401a1354c37bba765884e01beed",
       "version_major": 2,
       "version_minor": 0
      },
      "text/plain": [
       "Dropdown(description='Select Bootcamp Time', options=('12.00 AM', '1.00 AM', '2.00 AM', '3.00 AM', '4.00 AM', …"
      ]
     },
     "metadata": {},
     "output_type": "display_data"
    },
    {
     "name": "stdout",
     "output_type": "stream",
     "text": [
      "The Bootcamp time in Lagos is 2.0 PM\n"
     ]
    }
   ],
   "source": [
    "#Using an Interactive Interface\n",
    "    \n",
    "userCountry= input('Please enter your country or city name: ')\n",
    "style = {'description_width': '150px'}\n",
    "timeDropDown=widgets.Dropdown(options=['12.00 AM','1.00 AM','2.00 AM','3.00 AM','4.00 AM','5.00 AM','6.00 AM','7.00 AM',\n",
    "                                      '8.00 AM','9.00 AM','10.00 AM','11.00 AM','12.00 PM','1.00 PM','2.00 PM','3.00 PM','4.00 PM','5.00 PM','6.00 PM','7.00 PM',\n",
    "                                      '8.00 PM','9.00 PM','10.00 PM','11.00 PM'], value = '12.00 AM', description ='Select Bootcamp Time', disabled = False, style=style)\n",
    "\n",
    "def on_change(change):\n",
    "    if change['type'] == 'change' and change['name'] == 'value':\n",
    "        bootCampTime = change['new']\n",
    "        country,time = timeConverter(userCountry,bootCampTime)\n",
    "        print(f'The Bootcamp time in {country} is {time}')\n",
    "\n",
    "display(timeDropDown)\n",
    "timeDropDown.observe(on_change)"
   ]
  },
  {
   "cell_type": "code",
   "execution_count": 21,
   "id": "bfc0c8be",
   "metadata": {},
   "outputs": [
    {
     "ename": "DatabaseError",
     "evalue": "Execution failed on sql 'SELECT   STRFTIME('%d/%m/%Y, Date)AS Date FROM BootcampSchedule': unrecognized token: \"'%d/%m/%Y, Date)AS Date FROM BootcampSchedule\"",
     "output_type": "error",
     "traceback": [
      "\u001b[1;31m---------------------------------------------------------------------------\u001b[0m",
      "\u001b[1;31mOperationalError\u001b[0m                          Traceback (most recent call last)",
      "File \u001b[1;32m~\\anaconda3\\lib\\site-packages\\pandas\\io\\sql.py:2020\u001b[0m, in \u001b[0;36mSQLiteDatabase.execute\u001b[1;34m(self, *args, **kwargs)\u001b[0m\n\u001b[0;32m   2019\u001b[0m \u001b[38;5;28;01mtry\u001b[39;00m:\n\u001b[1;32m-> 2020\u001b[0m     cur\u001b[38;5;241m.\u001b[39mexecute(\u001b[38;5;241m*\u001b[39margs, \u001b[38;5;241m*\u001b[39m\u001b[38;5;241m*\u001b[39mkwargs)\n\u001b[0;32m   2021\u001b[0m     \u001b[38;5;28;01mreturn\u001b[39;00m cur\n",
      "\u001b[1;31mOperationalError\u001b[0m: unrecognized token: \"'%d/%m/%Y, Date)AS Date FROM BootcampSchedule\"",
      "\nThe above exception was the direct cause of the following exception:\n",
      "\u001b[1;31mDatabaseError\u001b[0m                             Traceback (most recent call last)",
      "Input \u001b[1;32mIn [21]\u001b[0m, in \u001b[0;36m<cell line: 3>\u001b[1;34m()\u001b[0m\n\u001b[0;32m      1\u001b[0m \u001b[38;5;66;03m# Reading columns from the database and converting to list\u001b[39;00m\n\u001b[0;32m      2\u001b[0m month \u001b[38;5;241m=\u001b[39m \u001b[38;5;28mlist\u001b[39m(pd\u001b[38;5;241m.\u001b[39mread_sql(\u001b[38;5;124m\"\u001b[39m\u001b[38;5;124mSELECT Month FROM BootcampSchedule\u001b[39m\u001b[38;5;124m\"\u001b[39m, connection)[\u001b[38;5;124m'\u001b[39m\u001b[38;5;124mMonth\u001b[39m\u001b[38;5;124m'\u001b[39m])\n\u001b[1;32m----> 3\u001b[0m date \u001b[38;5;241m=\u001b[39m \u001b[38;5;28mlist\u001b[39m(\u001b[43mpd\u001b[49m\u001b[38;5;241;43m.\u001b[39;49m\u001b[43mread_sql\u001b[49m\u001b[43m(\u001b[49m\u001b[38;5;124;43m\"\u001b[39;49m\u001b[38;5;124;43mSELECT   STRFTIME(\u001b[39;49m\u001b[38;5;124;43m'\u001b[39;49m\u001b[38;5;132;43;01m%d\u001b[39;49;00m\u001b[38;5;124;43m/\u001b[39;49m\u001b[38;5;124;43m%\u001b[39;49m\u001b[38;5;124;43mm/\u001b[39;49m\u001b[38;5;124;43m%\u001b[39;49m\u001b[38;5;124;43mY, Date)AS Date FROM BootcampSchedule\u001b[39;49m\u001b[38;5;124;43m\"\u001b[39;49m\u001b[43m,\u001b[49m\u001b[43m \u001b[49m\u001b[43mconnection\u001b[49m\u001b[43m)\u001b[49m[\u001b[38;5;124m'\u001b[39m\u001b[38;5;124mDate\u001b[39m\u001b[38;5;124m'\u001b[39m])\n\u001b[0;32m      4\u001b[0m time \u001b[38;5;241m=\u001b[39m \u001b[38;5;28mlist\u001b[39m(pd\u001b[38;5;241m.\u001b[39mread_sql(\u001b[38;5;124m\"\u001b[39m\u001b[38;5;124mSELECT BootcampTime FROM BootcampSchedule\u001b[39m\u001b[38;5;124m\"\u001b[39m, connection)[\u001b[38;5;124m'\u001b[39m\u001b[38;5;124mBootcampTime\u001b[39m\u001b[38;5;124m'\u001b[39m])\n\u001b[0;32m      5\u001b[0m cohort\u001b[38;5;241m=\u001b[39m \u001b[38;5;28mlist\u001b[39m(pd\u001b[38;5;241m.\u001b[39mread_sql(\u001b[38;5;124m\"\u001b[39m\u001b[38;5;124mSELECT Cohort FROM BootcampSchedule\u001b[39m\u001b[38;5;124m\"\u001b[39m, connection)[\u001b[38;5;124m'\u001b[39m\u001b[38;5;124mCohort\u001b[39m\u001b[38;5;124m'\u001b[39m])\n",
      "File \u001b[1;32m~\\anaconda3\\lib\\site-packages\\pandas\\io\\sql.py:566\u001b[0m, in \u001b[0;36mread_sql\u001b[1;34m(sql, con, index_col, coerce_float, params, parse_dates, columns, chunksize)\u001b[0m\n\u001b[0;32m    563\u001b[0m pandas_sql \u001b[38;5;241m=\u001b[39m pandasSQL_builder(con)\n\u001b[0;32m    565\u001b[0m \u001b[38;5;28;01mif\u001b[39;00m \u001b[38;5;28misinstance\u001b[39m(pandas_sql, SQLiteDatabase):\n\u001b[1;32m--> 566\u001b[0m     \u001b[38;5;28;01mreturn\u001b[39;00m \u001b[43mpandas_sql\u001b[49m\u001b[38;5;241;43m.\u001b[39;49m\u001b[43mread_query\u001b[49m\u001b[43m(\u001b[49m\n\u001b[0;32m    567\u001b[0m \u001b[43m        \u001b[49m\u001b[43msql\u001b[49m\u001b[43m,\u001b[49m\n\u001b[0;32m    568\u001b[0m \u001b[43m        \u001b[49m\u001b[43mindex_col\u001b[49m\u001b[38;5;241;43m=\u001b[39;49m\u001b[43mindex_col\u001b[49m\u001b[43m,\u001b[49m\n\u001b[0;32m    569\u001b[0m \u001b[43m        \u001b[49m\u001b[43mparams\u001b[49m\u001b[38;5;241;43m=\u001b[39;49m\u001b[43mparams\u001b[49m\u001b[43m,\u001b[49m\n\u001b[0;32m    570\u001b[0m \u001b[43m        \u001b[49m\u001b[43mcoerce_float\u001b[49m\u001b[38;5;241;43m=\u001b[39;49m\u001b[43mcoerce_float\u001b[49m\u001b[43m,\u001b[49m\n\u001b[0;32m    571\u001b[0m \u001b[43m        \u001b[49m\u001b[43mparse_dates\u001b[49m\u001b[38;5;241;43m=\u001b[39;49m\u001b[43mparse_dates\u001b[49m\u001b[43m,\u001b[49m\n\u001b[0;32m    572\u001b[0m \u001b[43m        \u001b[49m\u001b[43mchunksize\u001b[49m\u001b[38;5;241;43m=\u001b[39;49m\u001b[43mchunksize\u001b[49m\u001b[43m,\u001b[49m\n\u001b[0;32m    573\u001b[0m \u001b[43m    \u001b[49m\u001b[43m)\u001b[49m\n\u001b[0;32m    575\u001b[0m \u001b[38;5;28;01mtry\u001b[39;00m:\n\u001b[0;32m    576\u001b[0m     _is_table_name \u001b[38;5;241m=\u001b[39m pandas_sql\u001b[38;5;241m.\u001b[39mhas_table(sql)\n",
      "File \u001b[1;32m~\\anaconda3\\lib\\site-packages\\pandas\\io\\sql.py:2080\u001b[0m, in \u001b[0;36mSQLiteDatabase.read_query\u001b[1;34m(self, sql, index_col, coerce_float, params, parse_dates, chunksize, dtype)\u001b[0m\n\u001b[0;32m   2068\u001b[0m \u001b[38;5;28;01mdef\u001b[39;00m \u001b[38;5;21mread_query\u001b[39m(\n\u001b[0;32m   2069\u001b[0m     \u001b[38;5;28mself\u001b[39m,\n\u001b[0;32m   2070\u001b[0m     sql,\n\u001b[1;32m   (...)\u001b[0m\n\u001b[0;32m   2076\u001b[0m     dtype: DtypeArg \u001b[38;5;241m|\u001b[39m \u001b[38;5;28;01mNone\u001b[39;00m \u001b[38;5;241m=\u001b[39m \u001b[38;5;28;01mNone\u001b[39;00m,\n\u001b[0;32m   2077\u001b[0m ):\n\u001b[0;32m   2079\u001b[0m     args \u001b[38;5;241m=\u001b[39m _convert_params(sql, params)\n\u001b[1;32m-> 2080\u001b[0m     cursor \u001b[38;5;241m=\u001b[39m \u001b[38;5;28;43mself\u001b[39;49m\u001b[38;5;241;43m.\u001b[39;49m\u001b[43mexecute\u001b[49m\u001b[43m(\u001b[49m\u001b[38;5;241;43m*\u001b[39;49m\u001b[43margs\u001b[49m\u001b[43m)\u001b[49m\n\u001b[0;32m   2081\u001b[0m     columns \u001b[38;5;241m=\u001b[39m [col_desc[\u001b[38;5;241m0\u001b[39m] \u001b[38;5;28;01mfor\u001b[39;00m col_desc \u001b[38;5;129;01min\u001b[39;00m cursor\u001b[38;5;241m.\u001b[39mdescription]\n\u001b[0;32m   2083\u001b[0m     \u001b[38;5;28;01mif\u001b[39;00m chunksize \u001b[38;5;129;01mis\u001b[39;00m \u001b[38;5;129;01mnot\u001b[39;00m \u001b[38;5;28;01mNone\u001b[39;00m:\n",
      "File \u001b[1;32m~\\anaconda3\\lib\\site-packages\\pandas\\io\\sql.py:2032\u001b[0m, in \u001b[0;36mSQLiteDatabase.execute\u001b[1;34m(self, *args, **kwargs)\u001b[0m\n\u001b[0;32m   2029\u001b[0m     \u001b[38;5;28;01mraise\u001b[39;00m ex \u001b[38;5;28;01mfrom\u001b[39;00m \u001b[38;5;21;01minner_exc\u001b[39;00m\n\u001b[0;32m   2031\u001b[0m ex \u001b[38;5;241m=\u001b[39m DatabaseError(\u001b[38;5;124mf\u001b[39m\u001b[38;5;124m\"\u001b[39m\u001b[38;5;124mExecution failed on sql \u001b[39m\u001b[38;5;124m'\u001b[39m\u001b[38;5;132;01m{\u001b[39;00margs[\u001b[38;5;241m0\u001b[39m]\u001b[38;5;132;01m}\u001b[39;00m\u001b[38;5;124m'\u001b[39m\u001b[38;5;124m: \u001b[39m\u001b[38;5;132;01m{\u001b[39;00mexc\u001b[38;5;132;01m}\u001b[39;00m\u001b[38;5;124m\"\u001b[39m)\n\u001b[1;32m-> 2032\u001b[0m \u001b[38;5;28;01mraise\u001b[39;00m ex \u001b[38;5;28;01mfrom\u001b[39;00m \u001b[38;5;21;01mexc\u001b[39;00m\n",
      "\u001b[1;31mDatabaseError\u001b[0m: Execution failed on sql 'SELECT   STRFTIME('%d/%m/%Y, Date)AS Date FROM BootcampSchedule': unrecognized token: \"'%d/%m/%Y, Date)AS Date FROM BootcampSchedule\""
     ]
    }
   ],
   "source": [
    "# Reading columns from the database and converting to list\n",
    "month = list(pd.read_sql(\"SELECT Month FROM BootcampSchedule\", connection)['Month'])\n",
    "date = list(pd.read_sql(\"SELECT   STRFTIME('%d/%m/%Y', Date)AS Date FROM BootcampSchedule\", connection)['Date'])\n",
    "time = list(pd.read_sql(\"SELECT BootcampTime FROM BootcampSchedule\", connection)['BootcampTime'])\n",
    "cohort= list(pd.read_sql(\"SELECT Cohort FROM BootcampSchedule\", connection)['Cohort'])\n",
    "program = list(pd.read_sql(\"SELECT Program FROM BootcampSchedule\", connection)['Program'])\n",
    "topic = list(pd.read_sql(\"SELECT Topic FROM BootcampSchedule\", connection)['Topic'])\n",
    "\n",
    "#accept user input\n",
    "userCountry = input('Enter your City: ')\n",
    "userTimeList = []\n",
    "for item in time:\n",
    "    userTime = timeConverter(userCountry,item)[1]\n",
    "    userTimeList.append(userTime)\n",
    "    \n",
    "#printing new bootcamp schedule based on user country    \n",
    "print('Below is the Bootcamp Schedule in your Country: ') \n",
    "for m, dt, t, chrt, pgram, tp in zip(month,date,userTimeList,cohort,program,topic):\n",
    "    print(m, dt, t, chrt, pgram, tp, \"\\n\")"
   ]
  },
  {
   "cell_type": "code",
   "execution_count": null,
   "id": "b7554203",
   "metadata": {},
   "outputs": [],
   "source": []
  }
 ],
 "metadata": {
  "kernelspec": {
   "display_name": "Python 3 (ipykernel)",
   "language": "python",
   "name": "python3"
  },
  "language_info": {
   "codemirror_mode": {
    "name": "ipython",
    "version": 3
   },
   "file_extension": ".py",
   "mimetype": "text/x-python",
   "name": "python",
   "nbconvert_exporter": "python",
   "pygments_lexer": "ipython3",
   "version": "3.9.12"
  }
 },
 "nbformat": 4,
 "nbformat_minor": 5
}
