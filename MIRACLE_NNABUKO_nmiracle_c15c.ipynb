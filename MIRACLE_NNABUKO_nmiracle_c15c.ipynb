{
 "cells": [
  {
   "cell_type": "code",
   "execution_count": 1,
   "id": "24203f17",
   "metadata": {},
   "outputs": [
    {
     "name": "stdout",
     "output_type": "stream",
     "text": [
      "2.6.0\n"
     ]
    }
   ],
   "source": [
    "#creating an sqlite database table\n",
    "import sqlite3\n",
    "from sqlite3 import Error\n",
    "\n",
    "\n",
    "def create_connection(db_file):\n",
    "    \"\"\" create a database connection to a SQLite database \"\"\"\n",
    "    conn = None\n",
    "    try:\n",
    "        conn = sqlite3.connect(db_file)\n",
    "        print(sqlite3.version)\n",
    "    except Error as e:\n",
    "        print(e)\n",
    "    finally:\n",
    "        if conn:\n",
    "            conn.close()\n",
    "\n",
    "if __name__ == '__main__':\n",
    "    create_connection(\"pythonsqlite.db\")\n"
   ]
  },
  {
   "cell_type": "code",
   "execution_count": 2,
   "id": "570b8cfe",
   "metadata": {
    "scrolled": true
   },
   "outputs": [],
   "source": [
    "#importing pandas and reading the BootcampSchedule sheet\n",
    "import pandas as pd\n",
    "BootcampSchedule = pd.read_excel('C:/Users/HP/Desktop/pythonacademy/BootcampSchedule.xlsx')"
   ]
  },
  {
   "cell_type": "code",
   "execution_count": 3,
   "id": "ca91d2a5",
   "metadata": {},
   "outputs": [],
   "source": [
    "#Creating a database table named BootcampSchedule\n",
    "connection = sqlite3.connect('pythonsqlite.db')\n",
    "cursor = connection.cursor()\n",
    "cursor.execute('''CREATE TABLE IF NOT EXISTS BootcampSchedule (\n",
    "              Month TEXT, \n",
    "              Date TEXT, \n",
    "              BootcampTime TEXT,\n",
    "              Cohort TEXT,\n",
    "              Program TEXT,\n",
    "              Topic TEXT\n",
    "              );''')\n",
    "\n",
    "connection.commit()"
   ]
  },
  {
   "cell_type": "code",
   "execution_count": 4,
   "id": "2bdb2866",
   "metadata": {},
   "outputs": [
    {
     "data": {
      "text/plain": [
       "28"
      ]
     },
     "execution_count": 4,
     "metadata": {},
     "output_type": "execute_result"
    }
   ],
   "source": [
    "# Loading the BootcampSchedule table with data from the BootcampSchedule sheet\n",
    "BootcampSchedule.to_sql('BootcampSchedule', connection, if_exists='append', index=False)"
   ]
  },
  {
   "cell_type": "code",
   "execution_count": 5,
   "id": "7c8f6185",
   "metadata": {},
   "outputs": [],
   "source": [
    "# importing the ipywidgets for creating interacting interface\n",
    "!!pip install ipython\n",
    "from ipywidgets import *\n",
    "from IPython.display import display"
   ]
  },
  {
   "cell_type": "code",
   "execution_count": 6,
   "id": "93edcc09",
   "metadata": {},
   "outputs": [
    {
     "name": "stdout",
     "output_type": "stream",
     "text": [
      "14:29:16\n"
     ]
    }
   ],
   "source": [
    "import datetime\n",
    "from datetime import time\n",
    "\n",
    "\n",
    "# Function to get current userTime from computer time\n",
    "def currUserTime():\n",
    "    now = datetime.datetime.now()\n",
    "    current_time = now.strftime(\"%H:%M:%S\") # formating time to hours minutes and secs\n",
    "    return current_time\n",
    "print(currUserTime())"
   ]
  },
  {
   "cell_type": "code",
   "execution_count": 7,
   "id": "312c4575",
   "metadata": {},
   "outputs": [],
   "source": [
    "#reading country and timezone from timezones_Detailed_588_Countries.csv\n",
    "\n",
    "countryTime =pd.read_csv('timezones_Detailed_588_Countries.csv')\n",
    "countries = list(countryTime['timezone'])\n",
    "countryList =[]\n",
    "for items in countries:\n",
    "    if '/' in items:\n",
    "        country=items.split('/')\n",
    "        countryList.append(country[1])\n",
    "    else:\n",
    "        countryList.append(items)\n",
    "        \n",
    "countryTimeList = list(countryTime['offset'])\n",
    "#Converting offset to hours\n",
    "timezone=[]\n",
    "timezoneList =[]\n",
    "for item in countryTimeList:\n",
    "    offsetHours = (item/(60*60))\n",
    "    timezone.append(offsetHours)\n",
    "\n"
   ]
  },
  {
   "cell_type": "code",
   "execution_count": 8,
   "id": "0d2b2b32",
   "metadata": {},
   "outputs": [
    {
     "name": "stdout",
     "output_type": "stream",
     "text": [
      "Please enter your country or city name: Lagos\n"
     ]
    },
    {
     "data": {
      "text/plain": [
       "'The timezone of Lagos is UTC + 1.0'"
      ]
     },
     "execution_count": 8,
     "metadata": {},
     "output_type": "execute_result"
    }
   ],
   "source": [
    "\n",
    "countryAndTimeDict = dict(zip(countryList,timezone))\n",
    "                          \n",
    "def userTimezone(country):\n",
    "    timezone = countryAndTimeDict[country] \n",
    "    if timezone >0:\n",
    "        return f'The timezone of {country} is UTC + {timezone}'\n",
    "    else:\n",
    "        return f'The timezone of {country} is UTC {timezone}'\n",
    "\n",
    "\n",
    "country = input('Please enter your country or city name: ')\n",
    "userTimezone(country)"
   ]
  },
  {
   "cell_type": "code",
   "execution_count": 9,
   "id": "7a051a88",
   "metadata": {},
   "outputs": [
    {
     "name": "stdout",
     "output_type": "stream",
     "text": [
      "Please enter bootcamp time in format- xx.xx AM: 2.00 PM \n",
      "14.00\n",
      "Please enter bootcamp time in 24hr format- xx.xx: 21.00\n"
     ]
    },
    {
     "data": {
      "text/plain": [
       "'9.00 PM'"
      ]
     },
     "execution_count": 9,
     "metadata": {},
     "output_type": "execute_result"
    }
   ],
   "source": [
    "estOffset = -18000\n",
    " #A function to convert a 12-hour time and \"am\" or \"pm\" to a 24-hour value.    \n",
    "def to_24hour(bootCampTime):\n",
    "    estTime = bootCampTime.split(' ')\n",
    "    if '.' in estTime[0]:\n",
    "        est = estTime[0].split('.')\n",
    "        estTimeHour = int(est[0])\n",
    "    elif ':' in estTime[0]:\n",
    "        est = estTime[0].split(':')\n",
    "        estTimeHour = int(est[0])\n",
    "    if estTime[1] == 'AM':\n",
    "        return f'{00}.{est[1]}' if estTimeHour == 12 else f'{estTimeHour}.{est[1]}'\n",
    "    else:\n",
    "        return f'{12}.{est[1]}' if estTimeHour == 12 else f'{estTimeHour + 12}.{est[1]}'\n",
    "    \n",
    "bootCampTime = input('Please enter bootcamp time in format- xx.xx AM: ')\n",
    "print(to_24hour(bootCampTime))\n",
    "\n",
    "#A function to convert a 24-hour clock value to a 12-hour one.\n",
    "def to_12hour(hour):\n",
    "    hour = str(hour)\n",
    "    if '.' in hour:\n",
    "        est = hour.split('.')\n",
    "        estTimeHour = int(est[0])\n",
    "    elif ':' in hour:\n",
    "        est = hour.split(':')\n",
    "        estTimeHour = int(est[0])\n",
    "    if int(estTimeHour) == 0:\n",
    "        return (f'{12}.{est[1]} AM')\n",
    "    elif int(estTimeHour) < 12:\n",
    "        return (f'{estTimeHour}.{est[1]} AM')\n",
    "    elif int(estTimeHour) == 12:\n",
    "        return (f'{12}.{est[1]} PM')\n",
    "    elif (int(estTimeHour)>12) & (int(estTimeHour)<24):\n",
    "        return (f'{int(estTimeHour) - 12}.{est[1]} PM')\n",
    "    else:\n",
    "        return ('wrong format, enter a number between 0 and 24')\n",
    "\n",
    "hour = input('Please enter bootcamp time in 24hr format- xx.xx: ')\n",
    "to_12hour(hour)"
   ]
  },
  {
   "cell_type": "code",
   "execution_count": 10,
   "id": "6be79655",
   "metadata": {
    "scrolled": true
   },
   "outputs": [
    {
     "name": "stdout",
     "output_type": "stream",
     "text": [
      "Please enter your country or city name: Lagos\n",
      "Please enter bootcamp time format xx.xx AM: 6.00 AM\n",
      "The Bootcamp time in Lagos is 12.0 PM\n"
     ]
    }
   ],
   "source": [
    "#function to convert bootcamptime from EST to user's time\n",
    "def timeConverter(userCountry, bootCampTime):\n",
    "    estHour = to_24hour(bootCampTime)\n",
    "    countryOffset = countryAndTimeDict[userCountry]\n",
    "    utcTime = to_12hour((float(estHour) - (estOffset/(60*60)) + 24)%24)\n",
    "    utcTime24h = to_24hour(utcTime)\n",
    "    userTime24h = ((float(utcTime24h) + countryOffset)+24)%24\n",
    "    userTime = to_12hour(userTime24h)\n",
    "    return userCountry,userTime\n",
    "\n",
    "    \n",
    "userCountry= input('Please enter your country or city name: ')\n",
    "bootCampTime = input('Please enter bootcamp time format xx.xx AM: ')\n",
    "\n",
    "country,time = timeConverter(userCountry,bootCampTime)\n",
    "print(f'The Bootcamp time in {country} is {time}')\n",
    "\n"
   ]
  },
  {
   "cell_type": "code",
   "execution_count": 11,
   "id": "55535547",
   "metadata": {},
   "outputs": [
    {
     "name": "stdout",
     "output_type": "stream",
     "text": [
      "Please enter your country or city name: Lagos\n"
     ]
    },
    {
     "data": {
      "application/vnd.jupyter.widget-view+json": {
       "model_id": "00597df6d3d74584915e0813f43654b7",
       "version_major": 2,
       "version_minor": 0
      },
      "text/plain": [
       "Dropdown(description='Select Bootcamp Time', options=('12.00 AM', '1.00 AM', '2.00 AM', '3.00 AM', '4.00 AM', …"
      ]
     },
     "metadata": {},
     "output_type": "display_data"
    },
    {
     "name": "stdout",
     "output_type": "stream",
     "text": [
      "The Bootcamp time in Lagos is 1.0 PM\n"
     ]
    }
   ],
   "source": [
    "#Using an Interactive Interface\n",
    "    \n",
    "userCountry= input('Please enter your country or city name: ')\n",
    "style = {'description_width': '150px'}\n",
    "timeDropDown=widgets.Dropdown(options=['12.00 AM','1.00 AM','2.00 AM','3.00 AM','4.00 AM','5.00 AM','6.00 AM','7.00 AM',\n",
    "                                      '8.00 AM','9.00 AM','10.00 AM','11.00 AM','12.00 PM','1.00 PM','2.00 PM','3.00 PM','4.00 PM','5.00 PM','6.00 PM','7.00 PM',\n",
    "                                      '8.00 PM','9.00 PM','10.00 PM','11.00 PM'], value = '12.00 AM', description ='Select Bootcamp Time', disabled = False, style=style)\n",
    "\n",
    "def on_change(change):\n",
    "    if change['type'] == 'change' and change['name'] == 'value':\n",
    "        bootCampTime = change['new']\n",
    "        country,time = timeConverter(userCountry,bootCampTime)\n",
    "        print(f'The Bootcamp time in {country} is {time}')\n",
    "\n",
    "display(timeDropDown)\n",
    "timeDropDown.observe(on_change)"
   ]
  },
  {
   "cell_type": "code",
   "execution_count": 12,
   "id": "e94a1ff4",
   "metadata": {},
   "outputs": [
    {
     "name": "stdout",
     "output_type": "stream",
     "text": [
      "Enter your City: Lagos\n",
      "Below is the Bootcamp Schedule in your Country: \n",
      "July 07/07/2022 12.0 PM Cohort 14 Data Analytics Python Variables \n",
      "\n",
      "July 08/07/2022 4.0 PM Cohort 15 Data Science/ML Data Cleaning \n",
      "\n",
      "July 07/07/2022 12.0 PM Cohort 14 Data Science/ML Python Variables \n",
      "\n",
      "July 08/07/2022 4.0 PM Cohort 15 Data Analytics Data Visualization Project 1 \n",
      "\n",
      "July 21/07/2022 12.0 PM Cohort 14 Data Analytics Python Container \n",
      "\n",
      "July 21/07/2022 4.0 PM Cohort 15 Data Science/ML Data Transformation \n",
      "\n",
      "July 22/07/2022 12.0 PM Cohort 14 Data Science/ML Python Container \n",
      "\n",
      "July 22/07/2022 4.0 PM Cohort 15 Data Analytics Data Visualization Project 2 \n",
      "\n",
      "August 04/08/2022 12.0 PM Cohort 14 Data Analytics Python Container II \n",
      "\n",
      "August 04/08/2022 4.0 PM Cohort 15 Data Science/ML Data Transformation II \n",
      "\n",
      "August 05/08/2022 12.0 PM Cohort 14 Data Science/ML Python Container II \n",
      "\n",
      "August 05/08/2022 4.0 PM Cohort 15 Data Analytics Data Visualization Project 3 \n",
      "\n",
      "August 18/08/2022 12.0 PM Cohort 14 Data Analytics Python Functions \n",
      "\n",
      "August 18/08/2022 4.0 PM Cohort 15 Data Science/ML Feature Selection \n",
      "\n",
      "August 19/08/2022 12.0 PM Cohort 14 Data Science/ML Python Functions \n",
      "\n",
      "August 19/08/2022 4.0 PM Cohort 15 Data Analytics Data Visualization Project 4 \n",
      "\n",
      "September 01/09/2022 12.0 PM Cohort 14 Data Analytics Python Functions \n",
      "\n",
      "September 01/09/2022 4.0 PM Cohort 15 Data Science/ML Feature Selection II \n",
      "\n",
      "September 02/09/2022 12.0 PM Cohort 14 Data Science/ML Python Functions II \n",
      "\n",
      "September 02/09/2022 4.0 PM Cohort 15 Data Analytics Data Visualization Project 5 \n",
      "\n",
      "September 15/09/2022 12.0 PM Cohort 14 Data Analytics Python Pandas I \n",
      "\n",
      "September 15/09/2022 4.0 PM Cohort 15 Data Science/ML Supervised Learning Intro \n",
      "\n",
      "September 16/09/2022 12.0 PM Cohort 14 Data Science/ML Python Pandas I \n",
      "\n",
      "September 16/09/2022 4.0 PM Cohort 15 Data Analytics Data Visualization Project 6 \n",
      "\n",
      "September 29/09/2022 12.0 PM Cohort 14 Data Analytics Python Pandas II \n",
      "\n",
      "September 29/09/2022 4.0 PM Cohort 15 Data Science/ML Unsupervised Learning Intro \n",
      "\n",
      "September 30/09/2022 12.0 PM Cohort 14 Data Science/ML Python Pandas II \n",
      "\n",
      "September 30/09/2022 4.0 PM Cohort 15 Data Analytics Data Visualization Project 7 \n",
      "\n",
      "July 07/07/2022 12.0 PM Cohort 14 Data Analytics Python Variables \n",
      "\n",
      "July 08/07/2022 4.0 PM Cohort 15 Data Science/ML Data Cleaning \n",
      "\n",
      "July 07/07/2022 12.0 PM Cohort 14 Data Science/ML Python Variables \n",
      "\n",
      "July 08/07/2022 4.0 PM Cohort 15 Data Analytics Data Visualization Project 1 \n",
      "\n",
      "July 21/07/2022 12.0 PM Cohort 14 Data Analytics Python Container \n",
      "\n",
      "July 21/07/2022 4.0 PM Cohort 15 Data Science/ML Data Transformation \n",
      "\n",
      "July 22/07/2022 12.0 PM Cohort 14 Data Science/ML Python Container \n",
      "\n",
      "July 22/07/2022 4.0 PM Cohort 15 Data Analytics Data Visualization Project 2 \n",
      "\n",
      "August 04/08/2022 12.0 PM Cohort 14 Data Analytics Python Container II \n",
      "\n",
      "August 04/08/2022 4.0 PM Cohort 15 Data Science/ML Data Transformation II \n",
      "\n",
      "August 05/08/2022 12.0 PM Cohort 14 Data Science/ML Python Container II \n",
      "\n",
      "August 05/08/2022 4.0 PM Cohort 15 Data Analytics Data Visualization Project 3 \n",
      "\n",
      "August 18/08/2022 12.0 PM Cohort 14 Data Analytics Python Functions \n",
      "\n",
      "August 18/08/2022 4.0 PM Cohort 15 Data Science/ML Feature Selection \n",
      "\n",
      "August 19/08/2022 12.0 PM Cohort 14 Data Science/ML Python Functions \n",
      "\n",
      "August 19/08/2022 4.0 PM Cohort 15 Data Analytics Data Visualization Project 4 \n",
      "\n",
      "September 01/09/2022 12.0 PM Cohort 14 Data Analytics Python Functions \n",
      "\n",
      "September 01/09/2022 4.0 PM Cohort 15 Data Science/ML Feature Selection II \n",
      "\n",
      "September 02/09/2022 12.0 PM Cohort 14 Data Science/ML Python Functions II \n",
      "\n",
      "September 02/09/2022 4.0 PM Cohort 15 Data Analytics Data Visualization Project 5 \n",
      "\n",
      "September 15/09/2022 12.0 PM Cohort 14 Data Analytics Python Pandas I \n",
      "\n",
      "September 15/09/2022 4.0 PM Cohort 15 Data Science/ML Supervised Learning Intro \n",
      "\n",
      "September 16/09/2022 12.0 PM Cohort 14 Data Science/ML Python Pandas I \n",
      "\n",
      "September 16/09/2022 4.0 PM Cohort 15 Data Analytics Data Visualization Project 6 \n",
      "\n",
      "September 29/09/2022 12.0 PM Cohort 14 Data Analytics Python Pandas II \n",
      "\n",
      "September 29/09/2022 4.0 PM Cohort 15 Data Science/ML Unsupervised Learning Intro \n",
      "\n",
      "September 30/09/2022 12.0 PM Cohort 14 Data Science/ML Python Pandas II \n",
      "\n",
      "September 30/09/2022 4.0 PM Cohort 15 Data Analytics Data Visualization Project 7 \n",
      "\n",
      "July 07/07/2022 12.0 PM Cohort 14 Data Analytics Python Variables \n",
      "\n",
      "July 08/07/2022 4.0 PM Cohort 15 Data Science/ML Data Cleaning \n",
      "\n",
      "July 07/07/2022 12.0 PM Cohort 14 Data Science/ML Python Variables \n",
      "\n",
      "July 08/07/2022 4.0 PM Cohort 15 Data Analytics Data Visualization Project 1 \n",
      "\n",
      "July 21/07/2022 12.0 PM Cohort 14 Data Analytics Python Container \n",
      "\n",
      "July 21/07/2022 4.0 PM Cohort 15 Data Science/ML Data Transformation \n",
      "\n",
      "July 22/07/2022 12.0 PM Cohort 14 Data Science/ML Python Container \n",
      "\n",
      "July 22/07/2022 4.0 PM Cohort 15 Data Analytics Data Visualization Project 2 \n",
      "\n",
      "August 04/08/2022 12.0 PM Cohort 14 Data Analytics Python Container II \n",
      "\n",
      "August 04/08/2022 4.0 PM Cohort 15 Data Science/ML Data Transformation II \n",
      "\n",
      "August 05/08/2022 12.0 PM Cohort 14 Data Science/ML Python Container II \n",
      "\n",
      "August 05/08/2022 4.0 PM Cohort 15 Data Analytics Data Visualization Project 3 \n",
      "\n",
      "August 18/08/2022 12.0 PM Cohort 14 Data Analytics Python Functions \n",
      "\n",
      "August 18/08/2022 4.0 PM Cohort 15 Data Science/ML Feature Selection \n",
      "\n",
      "August 19/08/2022 12.0 PM Cohort 14 Data Science/ML Python Functions \n",
      "\n",
      "August 19/08/2022 4.0 PM Cohort 15 Data Analytics Data Visualization Project 4 \n",
      "\n",
      "September 01/09/2022 12.0 PM Cohort 14 Data Analytics Python Functions \n",
      "\n",
      "September 01/09/2022 4.0 PM Cohort 15 Data Science/ML Feature Selection II \n",
      "\n",
      "September 02/09/2022 12.0 PM Cohort 14 Data Science/ML Python Functions II \n",
      "\n",
      "September 02/09/2022 4.0 PM Cohort 15 Data Analytics Data Visualization Project 5 \n",
      "\n",
      "September 15/09/2022 12.0 PM Cohort 14 Data Analytics Python Pandas I \n",
      "\n",
      "September 15/09/2022 4.0 PM Cohort 15 Data Science/ML Supervised Learning Intro \n",
      "\n",
      "September 16/09/2022 12.0 PM Cohort 14 Data Science/ML Python Pandas I \n",
      "\n",
      "September 16/09/2022 4.0 PM Cohort 15 Data Analytics Data Visualization Project 6 \n",
      "\n",
      "September 29/09/2022 12.0 PM Cohort 14 Data Analytics Python Pandas II \n",
      "\n",
      "September 29/09/2022 4.0 PM Cohort 15 Data Science/ML Unsupervised Learning Intro \n",
      "\n",
      "September 30/09/2022 12.0 PM Cohort 14 Data Science/ML Python Pandas II \n",
      "\n",
      "September 30/09/2022 4.0 PM Cohort 15 Data Analytics Data Visualization Project 7 \n",
      "\n",
      "July 07/07/2022 12.0 PM Cohort 14 Data Analytics Python Variables \n",
      "\n",
      "July 08/07/2022 4.0 PM Cohort 15 Data Science/ML Data Cleaning \n",
      "\n",
      "July 07/07/2022 12.0 PM Cohort 14 Data Science/ML Python Variables \n",
      "\n",
      "July 08/07/2022 4.0 PM Cohort 15 Data Analytics Data Visualization Project 1 \n",
      "\n",
      "July 21/07/2022 12.0 PM Cohort 14 Data Analytics Python Container \n",
      "\n",
      "July 21/07/2022 4.0 PM Cohort 15 Data Science/ML Data Transformation \n",
      "\n",
      "July 22/07/2022 12.0 PM Cohort 14 Data Science/ML Python Container \n",
      "\n",
      "July 22/07/2022 4.0 PM Cohort 15 Data Analytics Data Visualization Project 2 \n",
      "\n",
      "August 04/08/2022 12.0 PM Cohort 14 Data Analytics Python Container II \n",
      "\n",
      "August 04/08/2022 4.0 PM Cohort 15 Data Science/ML Data Transformation II \n",
      "\n",
      "August 05/08/2022 12.0 PM Cohort 14 Data Science/ML Python Container II \n",
      "\n",
      "August 05/08/2022 4.0 PM Cohort 15 Data Analytics Data Visualization Project 3 \n",
      "\n",
      "August 18/08/2022 12.0 PM Cohort 14 Data Analytics Python Functions \n",
      "\n",
      "August 18/08/2022 4.0 PM Cohort 15 Data Science/ML Feature Selection \n",
      "\n",
      "August 19/08/2022 12.0 PM Cohort 14 Data Science/ML Python Functions \n",
      "\n",
      "August 19/08/2022 4.0 PM Cohort 15 Data Analytics Data Visualization Project 4 \n",
      "\n",
      "September 01/09/2022 12.0 PM Cohort 14 Data Analytics Python Functions \n",
      "\n",
      "September 01/09/2022 4.0 PM Cohort 15 Data Science/ML Feature Selection II \n",
      "\n",
      "September 02/09/2022 12.0 PM Cohort 14 Data Science/ML Python Functions II \n",
      "\n",
      "September 02/09/2022 4.0 PM Cohort 15 Data Analytics Data Visualization Project 5 \n",
      "\n",
      "September 15/09/2022 12.0 PM Cohort 14 Data Analytics Python Pandas I \n",
      "\n",
      "September 15/09/2022 4.0 PM Cohort 15 Data Science/ML Supervised Learning Intro \n",
      "\n",
      "September 16/09/2022 12.0 PM Cohort 14 Data Science/ML Python Pandas I \n",
      "\n",
      "September 16/09/2022 4.0 PM Cohort 15 Data Analytics Data Visualization Project 6 \n",
      "\n",
      "September 29/09/2022 12.0 PM Cohort 14 Data Analytics Python Pandas II \n",
      "\n",
      "September 29/09/2022 4.0 PM Cohort 15 Data Science/ML Unsupervised Learning Intro \n",
      "\n",
      "September 30/09/2022 12.0 PM Cohort 14 Data Science/ML Python Pandas II \n",
      "\n",
      "September 30/09/2022 4.0 PM Cohort 15 Data Analytics Data Visualization Project 7 \n",
      "\n"
     ]
    }
   ],
   "source": [
    "# Reading columns from the database and converting to list\n",
    "month = list(pd.read_sql(\"SELECT Month FROM BootcampSchedule\", connection)['Month'])\n",
    "date = list(pd.read_sql(\"SELECT   STRFTIME('%d/%m/%Y', Date)AS Date FROM BootcampSchedule\", connection)['Date'])\n",
    "time = list(pd.read_sql(\"SELECT BootcampTime FROM BootcampSchedule\", connection)['BootcampTime'])\n",
    "cohort= list(pd.read_sql(\"SELECT Cohort FROM BootcampSchedule\", connection)['Cohort'])\n",
    "program = list(pd.read_sql(\"SELECT Program FROM BootcampSchedule\", connection)['Program'])\n",
    "topic = list(pd.read_sql(\"SELECT Topic FROM BootcampSchedule\", connection)['Topic'])\n",
    "\n",
    "#accept user input\n",
    "userCountry = input('Enter your City: ')\n",
    "userTimeList = []\n",
    "for item in time:\n",
    "    userTime = timeConverter(userCountry,item)[1]\n",
    "    userTimeList.append(userTime)\n",
    "    \n",
    "#printing new bootcamp schedule based on user country    \n",
    "print('Below is the Bootcamp Schedule in your Country: ') \n",
    "for m, dt, t, chrt, pgram, tp in zip(month,date,userTimeList,cohort,program,topic):\n",
    "    print(m, dt, t, chrt, pgram, tp, \"\\n\")"
   ]
  },
  {
   "cell_type": "code",
   "execution_count": null,
   "id": "a728dcd7",
   "metadata": {},
   "outputs": [],
   "source": [
    "currUserTime()\n",
    "userTimeList"
   ]
  }
 ],
 "metadata": {
  "kernelspec": {
   "display_name": "Python 3 (ipykernel)",
   "language": "python",
   "name": "python3"
  },
  "language_info": {
   "codemirror_mode": {
    "name": "ipython",
    "version": 3
   },
   "file_extension": ".py",
   "mimetype": "text/x-python",
   "name": "python",
   "nbconvert_exporter": "python",
   "pygments_lexer": "ipython3",
   "version": "3.9.12"
  }
 },
 "nbformat": 4,
 "nbformat_minor": 5
}
